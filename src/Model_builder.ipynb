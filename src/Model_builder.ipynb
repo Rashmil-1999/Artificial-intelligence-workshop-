{
 "cells": [
  {
   "cell_type": "code",
   "execution_count": 12,
   "metadata": {},
   "outputs": [],
   "source": [
    "import tensorflow as tf\n",
    "from tensorflow.keras import Sequential"
   ]
  },
  {
   "cell_type": "code",
   "execution_count": 11,
   "metadata": {},
   "outputs": [],
   "source": [
    "from tensorflow.keras.layers import Dense,Conv2D,Dropout,MaxPool2D,Activation,Flatten"
   ]
  },
  {
   "cell_type": "code",
   "execution_count": 14,
   "metadata": {},
   "outputs": [],
   "source": [
    "def buildCnnModel(input_shape, num_classes, filters,kernel_size, dropout, pool_size, stride):\n",
    "    model = Sequential()\n",
    "    model.add(Conv2D(filters, kernel_size, padding='valid', input_shape=input_shape, strides=stride))\n",
    "    convout1 = Activation('relu')\n",
    "    model.add(convout1)\n",
    "    model.add(Conv2D(filters,  kernel_size))\n",
    "    convout2 = Activation('relu')\n",
    "    model.add(convout2)\n",
    "    convout3 = Activation('relu')\n",
    "    model.add(convout3)\n",
    "    model.add(MaxPooling2D(pool_size=pool_size))\n",
    "    model.add(Dropout(dropout))\n",
    "    model.add(Flatten())\n",
    "    model.add(Dense(num_classes))\n",
    "    model.add(Activation('relu'))\n",
    "    model.add(Dropout(dropout/2))\n",
    "    model.add(Dense(num_classes))\n",
    "    model.add(Activation('softmax'))\n",
    "    model.summary()\n",
    "    return model"
   ]
  },
  {
   "cell_type": "code",
   "execution_count": null,
   "metadata": {},
   "outputs": [],
   "source": []
  }
 ],
 "metadata": {
  "kernelspec": {
   "display_name": "Python 3",
   "language": "python",
   "name": "python3"
  },
  "language_info": {
   "codemirror_mode": {
    "name": "ipython",
    "version": 3
   },
   "file_extension": ".py",
   "mimetype": "text/x-python",
   "name": "python",
   "nbconvert_exporter": "python",
   "pygments_lexer": "ipython3",
   "version": "3.5.6"
  }
 },
 "nbformat": 4,
 "nbformat_minor": 2
}
